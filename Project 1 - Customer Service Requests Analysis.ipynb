{
 "cells": [
  {
   "cell_type": "code",
   "execution_count": 2,
   "metadata": {},
   "outputs": [],
   "source": [
    "# import required libraries\n",
    "import numpy as np\n",
    "import pandas as pd\n",
    "\n",
    "\n",
    "import matplotlib.pyplot as plt\n",
    "from matplotlib import style\n",
    "import seaborn as sns"
   ]
  },
  {
   "cell_type": "code",
   "execution_count": 3,
   "metadata": {},
   "outputs": [
    {
     "name": "stderr",
     "output_type": "stream",
     "text": [
      "/home/suprim/.local/lib/python3.8/site-packages/IPython/core/interactiveshell.py:3146: DtypeWarning: Columns (48,49) have mixed types.Specify dtype option on import or set low_memory=False.\n",
      "  has_raised = await self.run_ast_nodes(code_ast.body, cell_name,\n"
     ]
    }
   ],
   "source": [
    "# import the data\n",
    "service311 = pd.read_csv ('311_Service_Requests_from_2010_to_Present.csv')"
   ]
  },
  {
   "cell_type": "code",
   "execution_count": 4,
   "metadata": {},
   "outputs": [
    {
     "data": {
      "text/html": [
       "<div>\n",
       "<style scoped>\n",
       "    .dataframe tbody tr th:only-of-type {\n",
       "        vertical-align: middle;\n",
       "    }\n",
       "\n",
       "    .dataframe tbody tr th {\n",
       "        vertical-align: top;\n",
       "    }\n",
       "\n",
       "    .dataframe thead th {\n",
       "        text-align: right;\n",
       "    }\n",
       "</style>\n",
       "<table border=\"1\" class=\"dataframe\">\n",
       "  <thead>\n",
       "    <tr style=\"text-align: right;\">\n",
       "      <th></th>\n",
       "      <th>Unique Key</th>\n",
       "      <th>Created Date</th>\n",
       "      <th>Closed Date</th>\n",
       "      <th>Agency</th>\n",
       "      <th>Agency Name</th>\n",
       "      <th>Complaint Type</th>\n",
       "      <th>Descriptor</th>\n",
       "      <th>Location Type</th>\n",
       "      <th>Incident Zip</th>\n",
       "      <th>Incident Address</th>\n",
       "      <th>...</th>\n",
       "      <th>Bridge Highway Name</th>\n",
       "      <th>Bridge Highway Direction</th>\n",
       "      <th>Road Ramp</th>\n",
       "      <th>Bridge Highway Segment</th>\n",
       "      <th>Garage Lot Name</th>\n",
       "      <th>Ferry Direction</th>\n",
       "      <th>Ferry Terminal Name</th>\n",
       "      <th>Latitude</th>\n",
       "      <th>Longitude</th>\n",
       "      <th>Location</th>\n",
       "    </tr>\n",
       "  </thead>\n",
       "  <tbody>\n",
       "    <tr>\n",
       "      <th>0</th>\n",
       "      <td>32310363</td>\n",
       "      <td>12/31/2015 11:59:45 PM</td>\n",
       "      <td>01-01-16 0:55</td>\n",
       "      <td>NYPD</td>\n",
       "      <td>New York City Police Department</td>\n",
       "      <td>Noise - Street/Sidewalk</td>\n",
       "      <td>Loud Music/Party</td>\n",
       "      <td>Street/Sidewalk</td>\n",
       "      <td>10034.0</td>\n",
       "      <td>71 VERMILYEA AVENUE</td>\n",
       "      <td>...</td>\n",
       "      <td>NaN</td>\n",
       "      <td>NaN</td>\n",
       "      <td>NaN</td>\n",
       "      <td>NaN</td>\n",
       "      <td>NaN</td>\n",
       "      <td>NaN</td>\n",
       "      <td>NaN</td>\n",
       "      <td>40.865682</td>\n",
       "      <td>-73.923501</td>\n",
       "      <td>(40.86568153633767, -73.92350095571744)</td>\n",
       "    </tr>\n",
       "    <tr>\n",
       "      <th>1</th>\n",
       "      <td>32309934</td>\n",
       "      <td>12/31/2015 11:59:44 PM</td>\n",
       "      <td>01-01-16 1:26</td>\n",
       "      <td>NYPD</td>\n",
       "      <td>New York City Police Department</td>\n",
       "      <td>Blocked Driveway</td>\n",
       "      <td>No Access</td>\n",
       "      <td>Street/Sidewalk</td>\n",
       "      <td>11105.0</td>\n",
       "      <td>27-07 23 AVENUE</td>\n",
       "      <td>...</td>\n",
       "      <td>NaN</td>\n",
       "      <td>NaN</td>\n",
       "      <td>NaN</td>\n",
       "      <td>NaN</td>\n",
       "      <td>NaN</td>\n",
       "      <td>NaN</td>\n",
       "      <td>NaN</td>\n",
       "      <td>40.775945</td>\n",
       "      <td>-73.915094</td>\n",
       "      <td>(40.775945312321085, -73.91509393898605)</td>\n",
       "    </tr>\n",
       "    <tr>\n",
       "      <th>2</th>\n",
       "      <td>32309159</td>\n",
       "      <td>12/31/2015 11:59:29 PM</td>\n",
       "      <td>01-01-16 4:51</td>\n",
       "      <td>NYPD</td>\n",
       "      <td>New York City Police Department</td>\n",
       "      <td>Blocked Driveway</td>\n",
       "      <td>No Access</td>\n",
       "      <td>Street/Sidewalk</td>\n",
       "      <td>10458.0</td>\n",
       "      <td>2897 VALENTINE AVENUE</td>\n",
       "      <td>...</td>\n",
       "      <td>NaN</td>\n",
       "      <td>NaN</td>\n",
       "      <td>NaN</td>\n",
       "      <td>NaN</td>\n",
       "      <td>NaN</td>\n",
       "      <td>NaN</td>\n",
       "      <td>NaN</td>\n",
       "      <td>40.870325</td>\n",
       "      <td>-73.888525</td>\n",
       "      <td>(40.870324522111424, -73.88852464418646)</td>\n",
       "    </tr>\n",
       "    <tr>\n",
       "      <th>3</th>\n",
       "      <td>32305098</td>\n",
       "      <td>12/31/2015 11:57:46 PM</td>\n",
       "      <td>01-01-16 7:43</td>\n",
       "      <td>NYPD</td>\n",
       "      <td>New York City Police Department</td>\n",
       "      <td>Illegal Parking</td>\n",
       "      <td>Commercial Overnight Parking</td>\n",
       "      <td>Street/Sidewalk</td>\n",
       "      <td>10461.0</td>\n",
       "      <td>2940 BAISLEY AVENUE</td>\n",
       "      <td>...</td>\n",
       "      <td>NaN</td>\n",
       "      <td>NaN</td>\n",
       "      <td>NaN</td>\n",
       "      <td>NaN</td>\n",
       "      <td>NaN</td>\n",
       "      <td>NaN</td>\n",
       "      <td>NaN</td>\n",
       "      <td>40.835994</td>\n",
       "      <td>-73.828379</td>\n",
       "      <td>(40.83599404683083, -73.82837939584206)</td>\n",
       "    </tr>\n",
       "    <tr>\n",
       "      <th>4</th>\n",
       "      <td>32306529</td>\n",
       "      <td>12/31/2015 11:56:58 PM</td>\n",
       "      <td>01-01-16 3:24</td>\n",
       "      <td>NYPD</td>\n",
       "      <td>New York City Police Department</td>\n",
       "      <td>Illegal Parking</td>\n",
       "      <td>Blocked Sidewalk</td>\n",
       "      <td>Street/Sidewalk</td>\n",
       "      <td>11373.0</td>\n",
       "      <td>87-14 57 ROAD</td>\n",
       "      <td>...</td>\n",
       "      <td>NaN</td>\n",
       "      <td>NaN</td>\n",
       "      <td>NaN</td>\n",
       "      <td>NaN</td>\n",
       "      <td>NaN</td>\n",
       "      <td>NaN</td>\n",
       "      <td>NaN</td>\n",
       "      <td>40.733060</td>\n",
       "      <td>-73.874170</td>\n",
       "      <td>(40.733059618956815, -73.87416975810375)</td>\n",
       "    </tr>\n",
       "  </tbody>\n",
       "</table>\n",
       "<p>5 rows × 53 columns</p>\n",
       "</div>"
      ],
      "text/plain": [
       "   Unique Key            Created Date    Closed Date Agency  \\\n",
       "0    32310363  12/31/2015 11:59:45 PM  01-01-16 0:55   NYPD   \n",
       "1    32309934  12/31/2015 11:59:44 PM  01-01-16 1:26   NYPD   \n",
       "2    32309159  12/31/2015 11:59:29 PM  01-01-16 4:51   NYPD   \n",
       "3    32305098  12/31/2015 11:57:46 PM  01-01-16 7:43   NYPD   \n",
       "4    32306529  12/31/2015 11:56:58 PM  01-01-16 3:24   NYPD   \n",
       "\n",
       "                       Agency Name           Complaint Type  \\\n",
       "0  New York City Police Department  Noise - Street/Sidewalk   \n",
       "1  New York City Police Department         Blocked Driveway   \n",
       "2  New York City Police Department         Blocked Driveway   \n",
       "3  New York City Police Department          Illegal Parking   \n",
       "4  New York City Police Department          Illegal Parking   \n",
       "\n",
       "                     Descriptor    Location Type  Incident Zip  \\\n",
       "0              Loud Music/Party  Street/Sidewalk       10034.0   \n",
       "1                     No Access  Street/Sidewalk       11105.0   \n",
       "2                     No Access  Street/Sidewalk       10458.0   \n",
       "3  Commercial Overnight Parking  Street/Sidewalk       10461.0   \n",
       "4              Blocked Sidewalk  Street/Sidewalk       11373.0   \n",
       "\n",
       "        Incident Address  ... Bridge Highway Name Bridge Highway Direction  \\\n",
       "0    71 VERMILYEA AVENUE  ...                 NaN                      NaN   \n",
       "1        27-07 23 AVENUE  ...                 NaN                      NaN   \n",
       "2  2897 VALENTINE AVENUE  ...                 NaN                      NaN   \n",
       "3    2940 BAISLEY AVENUE  ...                 NaN                      NaN   \n",
       "4          87-14 57 ROAD  ...                 NaN                      NaN   \n",
       "\n",
       "  Road Ramp Bridge Highway Segment Garage Lot Name Ferry Direction  \\\n",
       "0       NaN                    NaN             NaN             NaN   \n",
       "1       NaN                    NaN             NaN             NaN   \n",
       "2       NaN                    NaN             NaN             NaN   \n",
       "3       NaN                    NaN             NaN             NaN   \n",
       "4       NaN                    NaN             NaN             NaN   \n",
       "\n",
       "  Ferry Terminal Name   Latitude  Longitude  \\\n",
       "0                 NaN  40.865682 -73.923501   \n",
       "1                 NaN  40.775945 -73.915094   \n",
       "2                 NaN  40.870325 -73.888525   \n",
       "3                 NaN  40.835994 -73.828379   \n",
       "4                 NaN  40.733060 -73.874170   \n",
       "\n",
       "                                   Location  \n",
       "0   (40.86568153633767, -73.92350095571744)  \n",
       "1  (40.775945312321085, -73.91509393898605)  \n",
       "2  (40.870324522111424, -73.88852464418646)  \n",
       "3   (40.83599404683083, -73.82837939584206)  \n",
       "4  (40.733059618956815, -73.87416975810375)  \n",
       "\n",
       "[5 rows x 53 columns]"
      ]
     },
     "execution_count": 4,
     "metadata": {},
     "output_type": "execute_result"
    }
   ],
   "source": [
    "# checking first 5 records using head method\n",
    "service311.head()"
   ]
  },
  {
   "cell_type": "code",
   "execution_count": 5,
   "metadata": {},
   "outputs": [
    {
     "data": {
      "text/plain": [
       "(300698, 53)"
      ]
     },
     "execution_count": 5,
     "metadata": {},
     "output_type": "execute_result"
    }
   ],
   "source": [
    "# view the dataset shape\n",
    "service311.shape"
   ]
  },
  {
   "cell_type": "code",
   "execution_count": 6,
   "metadata": {},
   "outputs": [
    {
     "data": {
      "text/plain": [
       "Index(['Unique Key', 'Created Date', 'Closed Date', 'Agency', 'Agency Name',\n",
       "       'Complaint Type', 'Descriptor', 'Location Type', 'Incident Zip',\n",
       "       'Incident Address', 'Street Name', 'Cross Street 1', 'Cross Street 2',\n",
       "       'Intersection Street 1', 'Intersection Street 2', 'Address Type',\n",
       "       'City', 'Landmark', 'Facility Type', 'Status', 'Due Date',\n",
       "       'Resolution Description', 'Resolution Action Updated Date',\n",
       "       'Community Board', 'Borough', 'X Coordinate (State Plane)',\n",
       "       'Y Coordinate (State Plane)', 'Park Facility Name', 'Park Borough',\n",
       "       'School Name', 'School Number', 'School Region', 'School Code',\n",
       "       'School Phone Number', 'School Address', 'School City', 'School State',\n",
       "       'School Zip', 'School Not Found', 'School or Citywide Complaint',\n",
       "       'Vehicle Type', 'Taxi Company Borough', 'Taxi Pick Up Location',\n",
       "       'Bridge Highway Name', 'Bridge Highway Direction', 'Road Ramp',\n",
       "       'Bridge Highway Segment', 'Garage Lot Name', 'Ferry Direction',\n",
       "       'Ferry Terminal Name', 'Latitude', 'Longitude', 'Location'],\n",
       "      dtype='object')"
      ]
     },
     "execution_count": 6,
     "metadata": {},
     "output_type": "execute_result"
    }
   ],
   "source": [
    "#view all the columns present in the dataset\n",
    "service311.columns"
   ]
  },
  {
   "cell_type": "code",
   "execution_count": 7,
   "metadata": {},
   "outputs": [
    {
     "data": {
      "text/plain": [
       "array(['Noise - Street/Sidewalk', 'Blocked Driveway', 'Illegal Parking',\n",
       "       'Derelict Vehicle', 'Noise - Commercial',\n",
       "       'Noise - House of Worship', 'Posting Advertisement',\n",
       "       'Noise - Vehicle', 'Animal Abuse', 'Vending', 'Traffic',\n",
       "       'Drinking', 'Bike/Roller/Skate Chronic', 'Panhandling',\n",
       "       'Noise - Park', 'Homeless Encampment', 'Urinating in Public',\n",
       "       'Graffiti', 'Disorderly Youth', 'Illegal Fireworks',\n",
       "       'Ferry Complaint', 'Agency Issues', 'Squeegee', 'Animal in a Park'],\n",
       "      dtype=object)"
      ]
     },
     "execution_count": 7,
     "metadata": {},
     "output_type": "execute_result"
    }
   ],
   "source": [
    "service311['Complaint Type'].unique()"
   ]
  },
  {
   "cell_type": "code",
   "execution_count": 8,
   "metadata": {},
   "outputs": [
    {
     "data": {
      "text/plain": [
       "array(['Loud Music/Party', 'No Access', 'Commercial Overnight Parking',\n",
       "       'Blocked Sidewalk', 'Posted Parking Sign Violation',\n",
       "       'Blocked Hydrant', 'With License Plate', 'Partial Access',\n",
       "       'Unauthorized Bus Layover', 'Double Parked Blocking Vehicle',\n",
       "       'Double Parked Blocking Traffic', 'Vehicle', 'Loud Talking',\n",
       "       'Banging/Pounding', 'Car/Truck Music', 'Tortured',\n",
       "       'In Prohibited Area', 'Congestion/Gridlock', 'Neglected',\n",
       "       'Car/Truck Horn', 'In Public', 'Other (complaint details)', nan,\n",
       "       'No Shelter', 'Truck Route Violation', 'Unlicensed',\n",
       "       'Overnight Commercial Storage', 'Engine Idling',\n",
       "       'After Hours - Licensed Est', 'Detached Trailer',\n",
       "       'Underage - Licensed Est', 'Chronic Stoplight Violation',\n",
       "       'Loud Television', 'Chained', 'Building', 'In Car',\n",
       "       'Police Report Requested', 'Chronic Speeding',\n",
       "       'Playing in Unsuitable Place', 'Drag Racing',\n",
       "       'Police Report Not Requested', 'Nuisance/Truant', 'Homeless Issue',\n",
       "       'Language Access Complaint', 'Disruptive Passenger',\n",
       "       'Animal Waste'], dtype=object)"
      ]
     },
     "execution_count": 8,
     "metadata": {},
     "output_type": "execute_result"
    }
   ],
   "source": [
    "service311['Descriptor'].unique()"
   ]
  },
  {
   "cell_type": "code",
   "execution_count": 9,
   "metadata": {},
   "outputs": [],
   "source": [
    "complaintTypecity = pd.DataFrame({'count': service311.groupby(['Complaint Type','City']).size()}).reset_index()"
   ]
  },
  {
   "cell_type": "code",
   "execution_count": 10,
   "metadata": {},
   "outputs": [
    {
     "data": {
      "text/html": [
       "<div>\n",
       "<style scoped>\n",
       "    .dataframe tbody tr th:only-of-type {\n",
       "        vertical-align: middle;\n",
       "    }\n",
       "\n",
       "    .dataframe tbody tr th {\n",
       "        vertical-align: top;\n",
       "    }\n",
       "\n",
       "    .dataframe thead th {\n",
       "        text-align: right;\n",
       "    }\n",
       "</style>\n",
       "<table border=\"1\" class=\"dataframe\">\n",
       "  <thead>\n",
       "    <tr style=\"text-align: right;\">\n",
       "      <th></th>\n",
       "      <th>Complaint Type</th>\n",
       "      <th>City</th>\n",
       "      <th>count</th>\n",
       "    </tr>\n",
       "  </thead>\n",
       "  <tbody>\n",
       "    <tr>\n",
       "      <th>0</th>\n",
       "      <td>Animal Abuse</td>\n",
       "      <td>ARVERNE</td>\n",
       "      <td>38</td>\n",
       "    </tr>\n",
       "    <tr>\n",
       "      <th>1</th>\n",
       "      <td>Animal Abuse</td>\n",
       "      <td>ASTORIA</td>\n",
       "      <td>125</td>\n",
       "    </tr>\n",
       "    <tr>\n",
       "      <th>2</th>\n",
       "      <td>Animal Abuse</td>\n",
       "      <td>BAYSIDE</td>\n",
       "      <td>37</td>\n",
       "    </tr>\n",
       "    <tr>\n",
       "      <th>3</th>\n",
       "      <td>Animal Abuse</td>\n",
       "      <td>BELLEROSE</td>\n",
       "      <td>7</td>\n",
       "    </tr>\n",
       "    <tr>\n",
       "      <th>4</th>\n",
       "      <td>Animal Abuse</td>\n",
       "      <td>BREEZY POINT</td>\n",
       "      <td>2</td>\n",
       "    </tr>\n",
       "    <tr>\n",
       "      <th>...</th>\n",
       "      <td>...</td>\n",
       "      <td>...</td>\n",
       "      <td>...</td>\n",
       "    </tr>\n",
       "    <tr>\n",
       "      <th>759</th>\n",
       "      <td>Vending</td>\n",
       "      <td>STATEN ISLAND</td>\n",
       "      <td>25</td>\n",
       "    </tr>\n",
       "    <tr>\n",
       "      <th>760</th>\n",
       "      <td>Vending</td>\n",
       "      <td>SUNNYSIDE</td>\n",
       "      <td>15</td>\n",
       "    </tr>\n",
       "    <tr>\n",
       "      <th>761</th>\n",
       "      <td>Vending</td>\n",
       "      <td>WHITESTONE</td>\n",
       "      <td>1</td>\n",
       "    </tr>\n",
       "    <tr>\n",
       "      <th>762</th>\n",
       "      <td>Vending</td>\n",
       "      <td>WOODHAVEN</td>\n",
       "      <td>6</td>\n",
       "    </tr>\n",
       "    <tr>\n",
       "      <th>763</th>\n",
       "      <td>Vending</td>\n",
       "      <td>WOODSIDE</td>\n",
       "      <td>15</td>\n",
       "    </tr>\n",
       "  </tbody>\n",
       "</table>\n",
       "<p>764 rows × 3 columns</p>\n",
       "</div>"
      ],
      "text/plain": [
       "    Complaint Type           City  count\n",
       "0     Animal Abuse        ARVERNE     38\n",
       "1     Animal Abuse        ASTORIA    125\n",
       "2     Animal Abuse        BAYSIDE     37\n",
       "3     Animal Abuse      BELLEROSE      7\n",
       "4     Animal Abuse   BREEZY POINT      2\n",
       "..             ...            ...    ...\n",
       "759        Vending  STATEN ISLAND     25\n",
       "760        Vending      SUNNYSIDE     15\n",
       "761        Vending     WHITESTONE      1\n",
       "762        Vending      WOODHAVEN      6\n",
       "763        Vending       WOODSIDE     15\n",
       "\n",
       "[764 rows x 3 columns]"
      ]
     },
     "execution_count": 10,
     "metadata": {},
     "output_type": "execute_result"
    }
   ],
   "source": [
    "complaintTypecity"
   ]
  },
  {
   "cell_type": "code",
   "execution_count": 11,
   "metadata": {},
   "outputs": [
    {
     "data": {
      "text/plain": [
       "Borough      Complaint Type         Descriptor               \n",
       "BRONX        Animal Abuse           Chained                      132\n",
       "                                    In Car                        36\n",
       "                                    Neglected                    673\n",
       "                                    No Shelter                    71\n",
       "                                    Other (complaint details)    311\n",
       "                                                                ... \n",
       "Unspecified  Noise - Vehicle        Engine Idling                 11\n",
       "             Posting Advertisement  Vehicle                        1\n",
       "             Traffic                Truck Route Violation          1\n",
       "             Vending                In Prohibited Area             2\n",
       "                                    Unlicensed                     5\n",
       "Length: 288, dtype: int64"
      ]
     },
     "execution_count": 11,
     "metadata": {},
     "output_type": "execute_result"
    }
   ],
   "source": [
    "service311.groupby(['Borough','Complaint Type','Descriptor']).size()"
   ]
  },
  {
   "cell_type": "code",
   "execution_count": 12,
   "metadata": {},
   "outputs": [
    {
     "name": "stderr",
     "output_type": "stream",
     "text": [
      "/home/suprim/.local/lib/python3.8/site-packages/IPython/core/interactiveshell.py:3146: DtypeWarning: Columns (48,49) have mixed types.Specify dtype option on import or set low_memory=False.\n",
      "  has_raised = await self.run_ast_nodes(code_ast.body, cell_name,\n"
     ]
    }
   ],
   "source": [
    "df = pd.read_csv(\"311_Service_Requests_from_2010_to_Present.csv\", parse_dates=[\"Created Date\", \"Closed Date\"])"
   ]
  },
  {
   "cell_type": "code",
   "execution_count": 13,
   "metadata": {},
   "outputs": [],
   "source": [
    "df[\"Request_Closing_Time\"] = df[\"Closed Date\"] - df[\"Created Date\"]"
   ]
  },
  {
   "cell_type": "code",
   "execution_count": 14,
   "metadata": {},
   "outputs": [
    {
     "data": {
      "image/png": "[encoded data removed]",
      "text/plain": [
       "<Figure size 504x504 with 1 Axes>"
      ]
     },
     "metadata": {
      "needs_background": "light"
     },
     "output_type": "display_data"
    }
   ],
   "source": [
    "#Have a look at the status of tickets\n",
    "df['Status'].value_counts().plot(kind='bar',alpha=0.6,figsize=(7,7))\n",
    "plt.show()"
   ]
  },
  {
   "cell_type": "code",
   "execution_count": 15,
   "metadata": {},
   "outputs": [
    {
     "data": {
      "text/plain": [
       "<AxesSubplot:>"
      ]
     },
     "execution_count": 15,
     "metadata": {},
     "output_type": "execute_result"
    },
    {
     "data": {
      "image/png": "[encoded data removed]",
      "text/plain": [
       "<Figure size 360x360 with 1 Axes>"
      ]
     },
     "metadata": {
      "needs_background": "light"
     },
     "output_type": "display_data"
    }
   ],
   "source": [
    "#Complaint type Breakdown with bar plot to figure out majority of complaint types and top 10 complaints\n",
    "service311['Complaint Type'].value_counts().head(10).plot(kind='barh',figsize=(5,5))"
   ]
  },
  {
   "cell_type": "code",
   "execution_count": 16,
   "metadata": {},
   "outputs": [
    {
     "data": {
      "text/plain": [
       "Borough      Complaint Type         Descriptor               \n",
       "BRONX        Animal Abuse           Chained                      132\n",
       "                                    In Car                        36\n",
       "                                    Neglected                    673\n",
       "                                    No Shelter                    71\n",
       "                                    Other (complaint details)    311\n",
       "                                                                ... \n",
       "Unspecified  Noise - Vehicle        Engine Idling                 11\n",
       "             Posting Advertisement  Vehicle                        1\n",
       "             Traffic                Truck Route Violation          1\n",
       "             Vending                In Prohibited Area             2\n",
       "                                    Unlicensed                     5\n",
       "Length: 288, dtype: int64"
      ]
     },
     "execution_count": 16,
     "metadata": {},
     "output_type": "execute_result"
    }
   ],
   "source": [
    "service311.groupby([\"Borough\",\"Complaint Type\",\"Descriptor\"]).size()"
   ]
  },
  {
   "cell_type": "code",
   "execution_count": 17,
   "metadata": {},
   "outputs": [
    {
     "data": {
      "text/html": [
       "<div>\n",
       "<style scoped>\n",
       "    .dataframe tbody tr th:only-of-type {\n",
       "        vertical-align: middle;\n",
       "    }\n",
       "\n",
       "    .dataframe tbody tr th {\n",
       "        vertical-align: top;\n",
       "    }\n",
       "\n",
       "    .dataframe thead th {\n",
       "        text-align: right;\n",
       "    }\n",
       "</style>\n",
       "<table border=\"1\" class=\"dataframe\">\n",
       "  <thead>\n",
       "    <tr style=\"text-align: right;\">\n",
       "      <th></th>\n",
       "      <th>Complaint Type</th>\n",
       "      <th>count</th>\n",
       "    </tr>\n",
       "  </thead>\n",
       "  <tbody>\n",
       "    <tr>\n",
       "      <th>0</th>\n",
       "      <td>Blocked Driveway</td>\n",
       "      <td>77044</td>\n",
       "    </tr>\n",
       "    <tr>\n",
       "      <th>1</th>\n",
       "      <td>Illegal Parking</td>\n",
       "      <td>75361</td>\n",
       "    </tr>\n",
       "    <tr>\n",
       "      <th>2</th>\n",
       "      <td>Noise - Street/Sidewalk</td>\n",
       "      <td>48612</td>\n",
       "    </tr>\n",
       "    <tr>\n",
       "      <th>3</th>\n",
       "      <td>Noise - Commercial</td>\n",
       "      <td>35577</td>\n",
       "    </tr>\n",
       "    <tr>\n",
       "      <th>4</th>\n",
       "      <td>Derelict Vehicle</td>\n",
       "      <td>17718</td>\n",
       "    </tr>\n",
       "    <tr>\n",
       "      <th>5</th>\n",
       "      <td>Noise - Vehicle</td>\n",
       "      <td>17083</td>\n",
       "    </tr>\n",
       "    <tr>\n",
       "      <th>6</th>\n",
       "      <td>Animal Abuse</td>\n",
       "      <td>7778</td>\n",
       "    </tr>\n",
       "    <tr>\n",
       "      <th>7</th>\n",
       "      <td>Traffic</td>\n",
       "      <td>4498</td>\n",
       "    </tr>\n",
       "    <tr>\n",
       "      <th>8</th>\n",
       "      <td>Homeless Encampment</td>\n",
       "      <td>4416</td>\n",
       "    </tr>\n",
       "    <tr>\n",
       "      <th>9</th>\n",
       "      <td>Noise - Park</td>\n",
       "      <td>4042</td>\n",
       "    </tr>\n",
       "  </tbody>\n",
       "</table>\n",
       "</div>"
      ],
      "text/plain": [
       "            Complaint Type  count\n",
       "0         Blocked Driveway  77044\n",
       "1          Illegal Parking  75361\n",
       "2  Noise - Street/Sidewalk  48612\n",
       "3       Noise - Commercial  35577\n",
       "4         Derelict Vehicle  17718\n",
       "5          Noise - Vehicle  17083\n",
       "6             Animal Abuse   7778\n",
       "7                  Traffic   4498\n",
       "8      Homeless Encampment   4416\n",
       "9             Noise - Park   4042"
      ]
     },
     "execution_count": 17,
     "metadata": {},
     "output_type": "execute_result"
    }
   ],
   "source": [
    "majorcomplints=service311.dropna(subset=[\"Complaint Type\"])\n",
    "majorcomplints=service311.groupby(\"Complaint Type\")\n",
    "\n",
    "sortedComplaintType = majorcomplints.size().sort_values(ascending = False)\n",
    "sortedComplaintType = sortedComplaintType.to_frame('count').reset_index()\n",
    "\n",
    "sortedComplaintType\n",
    "sortedComplaintType.head(10)"
   ]
  },
  {
   "cell_type": "code",
   "execution_count": 18,
   "metadata": {},
   "outputs": [
    {
     "data": {
      "image/png": "[encoded data removed]",
      "text/plain": [
       "<Figure size 360x360 with 1 Axes>"
      ]
     },
     "metadata": {},
     "output_type": "display_data"
    }
   ],
   "source": [
    "sortedComplaintType = sortedComplaintType.head()\n",
    "plt.figure(figsize=(5,5))\n",
    "plt.pie(sortedComplaintType['count'],labels=sortedComplaintType[\"Complaint Type\"], autopct=\"%1.1f%%\")\n",
    "plt.show()"
   ]
  },
  {
   "cell_type": "code",
   "execution_count": 19,
   "metadata": {},
   "outputs": [],
   "source": [
    "#Group dataset by complaint type to display plot against city\n",
    "groupedby_complainttype = df.groupby('Complaint Type')"
   ]
  },
  {
   "cell_type": "code",
   "execution_count": 20,
   "metadata": {},
   "outputs": [
    {
     "data": {
      "text/plain": [
       "(77044, 54)"
      ]
     },
     "execution_count": 20,
     "metadata": {},
     "output_type": "execute_result"
    }
   ],
   "source": [
    "grp_data = groupedby_complainttype.get_group('Blocked Driveway')\n",
    "grp_data.shape"
   ]
  },
  {
   "cell_type": "code",
   "execution_count": 21,
   "metadata": {},
   "outputs": [
    {
     "data": {
      "text/plain": [
       "Unique Key                             0\n",
       "Created Date                           0\n",
       "Closed Date                         2164\n",
       "Agency                                 0\n",
       "Agency Name                            0\n",
       "Complaint Type                         0\n",
       "Descriptor                          5914\n",
       "Location Type                        131\n",
       "Incident Zip                        2615\n",
       "Incident Address                   44410\n",
       "Street Name                        44410\n",
       "Cross Street 1                     49279\n",
       "Cross Street 2                     49779\n",
       "Intersection Street 1             256840\n",
       "Intersection Street 2             257336\n",
       "Address Type                        2815\n",
       "City                                2614\n",
       "Landmark                          300349\n",
       "Facility Type                       2171\n",
       "Status                                 0\n",
       "Due Date                               3\n",
       "Resolution Description                 0\n",
       "Resolution Action Updated Date      2187\n",
       "Community Board                        0\n",
       "Borough                                0\n",
       "X Coordinate (State Plane)          3540\n",
       "Y Coordinate (State Plane)          3540\n",
       "Park Facility Name                     0\n",
       "Park Borough                           0\n",
       "School Name                            0\n",
       "School Number                          0\n",
       "School Region                          1\n",
       "School Code                            1\n",
       "School Phone Number                    0\n",
       "School Address                         0\n",
       "School City                            0\n",
       "School State                           0\n",
       "School Zip                             1\n",
       "School Not Found                       0\n",
       "School or Citywide Complaint      300698\n",
       "Vehicle Type                      300698\n",
       "Taxi Company Borough              300698\n",
       "Taxi Pick Up Location             300698\n",
       "Bridge Highway Name               300455\n",
       "Bridge Highway Direction          300455\n",
       "Road Ramp                         300485\n",
       "Bridge Highway Segment            300485\n",
       "Garage Lot Name                   300698\n",
       "Ferry Direction                   300697\n",
       "Ferry Terminal Name               300696\n",
       "Latitude                            3540\n",
       "Longitude                           3540\n",
       "Location                            3540\n",
       "Request_Closing_Time                2164\n",
       "dtype: int64"
      ]
     },
     "execution_count": 21,
     "metadata": {},
     "output_type": "execute_result"
    }
   ],
   "source": [
    "#To get nan values in the entire dataset\n",
    "df.isnull().sum()"
   ]
  },
  {
   "cell_type": "code",
   "execution_count": 22,
   "metadata": {},
   "outputs": [],
   "source": [
    "#fix blank values in City column\n",
    "df['City'].dropna(inplace=True)"
   ]
  },
  {
   "cell_type": "code",
   "execution_count": 23,
   "metadata": {},
   "outputs": [
    {
     "data": {
      "text/plain": [
       "(300698,)"
      ]
     },
     "execution_count": 23,
     "metadata": {},
     "output_type": "execute_result"
    }
   ],
   "source": [
    "#Shape after dropping nan values\n",
    "df['City'].shape"
   ]
  },
  {
   "cell_type": "code",
   "execution_count": 24,
   "metadata": {},
   "outputs": [
    {
     "data": {
      "text/plain": [
       "283"
      ]
     },
     "execution_count": 24,
     "metadata": {},
     "output_type": "execute_result"
    }
   ],
   "source": [
    "#count of null values in grouped city column data\n",
    "grp_data['City'].isnull().sum()"
   ]
  },
  {
   "cell_type": "code",
   "execution_count": 25,
   "metadata": {},
   "outputs": [
    {
     "name": "stderr",
     "output_type": "stream",
     "text": [
      "/home/suprim/.local/lib/python3.8/site-packages/pandas/core/series.py:4529: SettingWithCopyWarning: \n",
      "A value is trying to be set on a copy of a slice from a DataFrame\n",
      "\n",
      "See the caveats in the documentation: https://pandas.pydata.org/pandas-docs/stable/user_guide/indexing.html#returning-a-view-versus-a-copy\n",
      "  return super().fillna(\n"
     ]
    }
   ],
   "source": [
    "#fix those NAN with \"unknown city\" value instead\n",
    "grp_data['City'].fillna('Unknown City', inplace =True)"
   ]
  },
  {
   "cell_type": "code",
   "execution_count": 26,
   "metadata": {},
   "outputs": [
    {
     "data": {
      "image/png": "[encoded data removed]",
      "text/plain": [
       "<Figure size 1440x1080 with 1 Axes>"
      ]
     },
     "metadata": {
      "needs_background": "light"
     },
     "output_type": "display_data"
    }
   ],
   "source": [
    "#Scatter plot displaying all the cities that raised complaint of type 'Blocked Driveway'\n",
    "plt.figure(figsize=(20, 15))\n",
    "plt.scatter(grp_data['Complaint Type'],grp_data['City'])\n",
    "plt.title('Plot showing list of cities that raised complaint of type Blocked Driveway')\n",
    "plt.show()"
   ]
  },
  {
   "cell_type": "code",
   "execution_count": null,
   "metadata": {},
   "outputs": [],
   "source": []
  },
  {
   "cell_type": "code",
   "execution_count": null,
   "metadata": {},
   "outputs": [],
   "source": []
  }
 ],
 "metadata": {
  "kernelspec": {
   "display_name": "Python 3.8.5 64-bit",
   "language": "python",
   "name": "python38564bit8c6d3047083a493db77bcc21e1c54c0b"
  },
  "language_info": {
   "codemirror_mode": {
    "name": "ipython",
    "version": 3
   },
   "file_extension": ".py",
   "mimetype": "text/x-python",
   "name": "python",
   "nbconvert_exporter": "python",
   "pygments_lexer": "ipython3",
   "version": "3.8.5"
  }
 },
 "nbformat": 4,
 "nbformat_minor": 4
}
